{
 "cells": [
  {
   "cell_type": "code",
   "execution_count": null,
   "id": "4de77066",
   "metadata": {},
   "outputs": [],
   "source": []
  },
  {
   "cell_type": "code",
   "execution_count": 1,
   "id": "a0839dcf",
   "metadata": {},
   "outputs": [],
   "source": [
    "import requests as rq\n",
    "import pandas as pd\n"
   ]
  },
  {
   "cell_type": "code",
   "execution_count": 2,
   "id": "35123d20",
   "metadata": {},
   "outputs": [],
   "source": [
    "df_aerodromo = pd.read_excel('aeroportos_BR.xlsx')"
   ]
  },
  {
   "cell_type": "code",
   "execution_count": null,
   "id": "2b69e2e0",
   "metadata": {},
   "outputs": [],
   "source": []
  },
  {
   "cell_type": "code",
   "execution_count": 3,
   "id": "43f61a98",
   "metadata": {},
   "outputs": [],
   "source": [
    "df_top_10_aeroportos = pd.read_parquet('top_10_aeroportos.parquet')"
   ]
  },
  {
   "cell_type": "code",
   "execution_count": 4,
   "id": "c6135128",
   "metadata": {},
   "outputs": [],
   "source": [
    "lst_IATA = list(df_top_10_aeroportos[\"aeroporto_nome\"].unique())"
   ]
  },
  {
   "cell_type": "code",
   "execution_count": 5,
   "id": "48a1f9c5",
   "metadata": {},
   "outputs": [],
   "source": [
    "# Seleciona os 10 principais Aeroportos do país\n",
    "df_aerodromo = df_aerodromo[\n",
    "    df_aerodromo[\"IATA\"].isin(lst_IATA)\n",
    "]"
   ]
  },
  {
   "cell_type": "code",
   "execution_count": 6,
   "id": "500ac3ad",
   "metadata": {},
   "outputs": [],
   "source": [
    "aeroportos = zip(df_aerodromo[\"IATA\"], df_aerodromo[\"ICAO\"])"
   ]
  },
  {
   "cell_type": "code",
   "execution_count": null,
   "id": "4214e091",
   "metadata": {},
   "outputs": [],
   "source": []
  },
  {
   "cell_type": "code",
   "execution_count": null,
   "id": "ebc9046f",
   "metadata": {},
   "outputs": [],
   "source": []
  },
  {
   "cell_type": "markdown",
   "id": "20eb7707",
   "metadata": {},
   "source": [
    "### [Geocoding API](https://open-meteo.com/en/docs/geocoding-api#api-documentation)"
   ]
  },
  {
   "cell_type": "code",
   "execution_count": 7,
   "id": "db8664e2",
   "metadata": {},
   "outputs": [
    {
     "name": "stdout",
     "output_type": "stream",
     "text": [
      "Não locatizado:\n",
      " []\n"
     ]
    }
   ],
   "source": [
    "# Obtem as latitudades e longitudes dos Aeroportos\n",
    "\n",
    "info_areo = []\n",
    "aero_404 = []\n",
    "\n",
    "for IATA, ICAO in aeroportos:\n",
    "    \n",
    "    url = \"https://geocoding-api.open-meteo.com/v1/search?name={}&language=pt&count=10\".format(ICAO)\n",
    "    response = rq.get(url)\n",
    "    data = response.json()\n",
    "    \n",
    "    # Validando se a resposta da API é válida\n",
    "    if (response.status_code != 400) and (len(data) > 1):\n",
    "        tmp = pd.DataFrame(data['results'])\n",
    "        tmp[\"IATA\"] = IATA\n",
    "        tmp[\"ICAO\"] = ICAO\n",
    "        # Filter only airport and BR\n",
    "        tmp = tmp[\n",
    "            (tmp[\"country_code\"] == \"BR\") & \n",
    "            (tmp[\"feature_code\"] == \"AIRP\")\n",
    "        ]\n",
    "        info_areo.append(tmp)\n",
    "    else:\n",
    "        aero_404.append(IATA)\n",
    "\n",
    "print(\"Não locatizado:\\n\", aero_404)\n",
    "geo_aero = pd.concat(info_areo)\n",
    "df_geo_aero = geo_aero[[\"ICAO\",\"IATA\", \"latitude\", \"longitude\", \"elevation\"]]"
   ]
  },
  {
   "cell_type": "code",
   "execution_count": 8,
   "id": "4da4ca0a",
   "metadata": {},
   "outputs": [
    {
     "data": {
      "text/html": [
       "<div>\n",
       "<style scoped>\n",
       "    .dataframe tbody tr th:only-of-type {\n",
       "        vertical-align: middle;\n",
       "    }\n",
       "\n",
       "    .dataframe tbody tr th {\n",
       "        vertical-align: top;\n",
       "    }\n",
       "\n",
       "    .dataframe thead th {\n",
       "        text-align: right;\n",
       "    }\n",
       "</style>\n",
       "<table border=\"1\" class=\"dataframe\">\n",
       "  <thead>\n",
       "    <tr style=\"text-align: right;\">\n",
       "      <th></th>\n",
       "      <th>ICAO</th>\n",
       "      <th>IATA</th>\n",
       "      <th>latitude</th>\n",
       "      <th>longitude</th>\n",
       "      <th>elevation</th>\n",
       "    </tr>\n",
       "  </thead>\n",
       "  <tbody>\n",
       "    <tr>\n",
       "      <th>0</th>\n",
       "      <td>SBBR</td>\n",
       "      <td>BSB</td>\n",
       "      <td>-15.87110</td>\n",
       "      <td>-47.91862</td>\n",
       "      <td>1060.0</td>\n",
       "    </tr>\n",
       "    <tr>\n",
       "      <th>0</th>\n",
       "      <td>SBSP</td>\n",
       "      <td>CGH</td>\n",
       "      <td>-23.62754</td>\n",
       "      <td>-46.65597</td>\n",
       "      <td>801.0</td>\n",
       "    </tr>\n",
       "    <tr>\n",
       "      <th>0</th>\n",
       "      <td>SBSV</td>\n",
       "      <td>SSA</td>\n",
       "      <td>-12.91099</td>\n",
       "      <td>-38.33104</td>\n",
       "      <td>19.0</td>\n",
       "    </tr>\n",
       "    <tr>\n",
       "      <th>0</th>\n",
       "      <td>SBPA</td>\n",
       "      <td>POA</td>\n",
       "      <td>-29.99443</td>\n",
       "      <td>-51.17143</td>\n",
       "      <td>3.0</td>\n",
       "    </tr>\n",
       "    <tr>\n",
       "      <th>0</th>\n",
       "      <td>SBKP</td>\n",
       "      <td>VCP</td>\n",
       "      <td>-23.00738</td>\n",
       "      <td>-47.13452</td>\n",
       "      <td>661.0</td>\n",
       "    </tr>\n",
       "  </tbody>\n",
       "</table>\n",
       "</div>"
      ],
      "text/plain": [
       "   ICAO IATA  latitude  longitude  elevation\n",
       "0  SBBR  BSB -15.87110  -47.91862     1060.0\n",
       "0  SBSP  CGH -23.62754  -46.65597      801.0\n",
       "0  SBSV  SSA -12.91099  -38.33104       19.0\n",
       "0  SBPA  POA -29.99443  -51.17143        3.0\n",
       "0  SBKP  VCP -23.00738  -47.13452      661.0"
      ]
     },
     "execution_count": 8,
     "metadata": {},
     "output_type": "execute_result"
    }
   ],
   "source": [
    "df_geo_aero.head()"
   ]
  },
  {
   "cell_type": "code",
   "execution_count": null,
   "id": "9de5297c",
   "metadata": {},
   "outputs": [],
   "source": []
  },
  {
   "cell_type": "markdown",
   "id": "1f2943bb",
   "metadata": {},
   "source": [
    "### [Historical Weather API](https://open-meteo.com/en/docs/historical-weather-api)"
   ]
  },
  {
   "cell_type": "code",
   "execution_count": 9,
   "id": "6be93904",
   "metadata": {},
   "outputs": [],
   "source": [
    "start_date = \"2022-01-01\"\n",
    "end_date = \"2022-12-31\"\n",
    "\n",
    "endpoint = 'https://archive-api.open-meteo.com/v1/archive?'\n",
    "\n",
    "params = '&hourly=temperature_2m,precipitation,rain,cloudcover,cloudcover_low,cloudcover_mid,cloudcover_high,'\\\n",
    "          'windspeed_10m,windspeed_100m&daily=weathercode&timezone=America%2FSao_Paulo'"
   ]
  },
  {
   "cell_type": "code",
   "execution_count": null,
   "id": "9fa51853",
   "metadata": {},
   "outputs": [],
   "source": []
  },
  {
   "cell_type": "code",
   "execution_count": 10,
   "id": "8992a362",
   "metadata": {},
   "outputs": [
    {
     "name": "stdout",
     "output_type": "stream",
     "text": [
      "https://archive-api.open-meteo.com/v1/archive?latitude=-15.8711&longitude=-47.91862&start_date=2022-01-01&end_date=2022-12-31&hourly=temperature_2m,precipitation,rain,cloudcover,cloudcover_low,cloudcover_mid,cloudcover_high,windspeed_10m,windspeed_100m&daily=weathercode&timezone=America%2FSao_Paulo\n",
      "https://archive-api.open-meteo.com/v1/archive?latitude=-23.62754&longitude=-46.65597&start_date=2022-01-01&end_date=2022-12-31&hourly=temperature_2m,precipitation,rain,cloudcover,cloudcover_low,cloudcover_mid,cloudcover_high,windspeed_10m,windspeed_100m&daily=weathercode&timezone=America%2FSao_Paulo\n",
      "https://archive-api.open-meteo.com/v1/archive?latitude=-12.91099&longitude=-38.33104&start_date=2022-01-01&end_date=2022-12-31&hourly=temperature_2m,precipitation,rain,cloudcover,cloudcover_low,cloudcover_mid,cloudcover_high,windspeed_10m,windspeed_100m&daily=weathercode&timezone=America%2FSao_Paulo\n",
      "https://archive-api.open-meteo.com/v1/archive?latitude=-29.99443&longitude=-51.17143&start_date=2022-01-01&end_date=2022-12-31&hourly=temperature_2m,precipitation,rain,cloudcover,cloudcover_low,cloudcover_mid,cloudcover_high,windspeed_10m,windspeed_100m&daily=weathercode&timezone=America%2FSao_Paulo\n",
      "https://archive-api.open-meteo.com/v1/archive?latitude=-23.00738&longitude=-47.13452&start_date=2022-01-01&end_date=2022-12-31&hourly=temperature_2m,precipitation,rain,cloudcover,cloudcover_low,cloudcover_mid,cloudcover_high,windspeed_10m,windspeed_100m&daily=weathercode&timezone=America%2FSao_Paulo\n",
      "https://archive-api.open-meteo.com/v1/archive?latitude=-8.12679&longitude=-34.92304&start_date=2022-01-01&end_date=2022-12-31&hourly=temperature_2m,precipitation,rain,cloudcover,cloudcover_low,cloudcover_mid,cloudcover_high,windspeed_10m,windspeed_100m&daily=weathercode&timezone=America%2FSao_Paulo\n",
      "https://archive-api.open-meteo.com/v1/archive?latitude=-25.52848&longitude=-49.17578&start_date=2022-01-01&end_date=2022-12-31&hourly=temperature_2m,precipitation,rain,cloudcover,cloudcover_low,cloudcover_mid,cloudcover_high,windspeed_10m,windspeed_100m&daily=weathercode&timezone=America%2FSao_Paulo\n",
      "https://archive-api.open-meteo.com/v1/archive?latitude=-22.91046&longitude=-43.16313&start_date=2022-01-01&end_date=2022-12-31&hourly=temperature_2m,precipitation,rain,cloudcover,cloudcover_low,cloudcover_mid,cloudcover_high,windspeed_10m,windspeed_100m&daily=weathercode&timezone=America%2FSao_Paulo\n",
      "https://archive-api.open-meteo.com/v1/archive?latitude=-23.43057&longitude=-46.48101&start_date=2022-01-01&end_date=2022-12-31&hourly=temperature_2m,precipitation,rain,cloudcover,cloudcover_low,cloudcover_mid,cloudcover_high,windspeed_10m,windspeed_100m&daily=weathercode&timezone=America%2FSao_Paulo\n",
      "https://archive-api.open-meteo.com/v1/archive?latitude=-19.63375&longitude=-43.96886&start_date=2022-01-01&end_date=2022-12-31&hourly=temperature_2m,precipitation,rain,cloudcover,cloudcover_low,cloudcover_mid,cloudcover_high,windspeed_10m,windspeed_100m&daily=weathercode&timezone=America%2FSao_Paulo\n"
     ]
    }
   ],
   "source": [
    "meteo_aero = []\n",
    "\n",
    "for index, row in df_geo_aero.iterrows():\n",
    "    filters = f\"latitude={row['latitude']}&longitude={row['longitude']}&start_date={start_date}&end_date={end_date}\"\n",
    "    url = endpoint + filters + params\n",
    "    print(url)\n",
    "    response = rq.get(url)\n",
    "    data = response.json()\n",
    "    \n",
    "    # Validando se a resposta da API é válida\n",
    "    if (response.status_code != 400) and (len(data) > 1):\n",
    "        tmp = pd.DataFrame(data['hourly'])\n",
    "        \n",
    "        tmp[[\"date\", \"hour\"]] = tmp[\"time\"].str.split('T', 1, expand=True)\n",
    "        tmp['elevation'] = int(data['elevation'])\n",
    "        tmp['weathercode'] = data['daily']['weathercode'][0]\n",
    "        tmp[\"IATA\"] = row['IATA']\n",
    "        \n",
    "        meteo_aero.append(tmp)\n",
    "        \n",
    "df_tempo = pd.concat(meteo_aero)"
   ]
  },
  {
   "cell_type": "code",
   "execution_count": null,
   "id": "c3becf1c",
   "metadata": {},
   "outputs": [],
   "source": []
  },
  {
   "cell_type": "code",
   "execution_count": 11,
   "id": "7f4b6199",
   "metadata": {},
   "outputs": [
    {
     "data": {
      "text/html": [
       "<div>\n",
       "<style scoped>\n",
       "    .dataframe tbody tr th:only-of-type {\n",
       "        vertical-align: middle;\n",
       "    }\n",
       "\n",
       "    .dataframe tbody tr th {\n",
       "        vertical-align: top;\n",
       "    }\n",
       "\n",
       "    .dataframe thead th {\n",
       "        text-align: right;\n",
       "    }\n",
       "</style>\n",
       "<table border=\"1\" class=\"dataframe\">\n",
       "  <thead>\n",
       "    <tr style=\"text-align: right;\">\n",
       "      <th></th>\n",
       "      <th>time</th>\n",
       "      <th>temperature_2m</th>\n",
       "      <th>precipitation</th>\n",
       "      <th>rain</th>\n",
       "      <th>cloudcover</th>\n",
       "      <th>cloudcover_low</th>\n",
       "      <th>cloudcover_mid</th>\n",
       "      <th>cloudcover_high</th>\n",
       "      <th>windspeed_10m</th>\n",
       "      <th>windspeed_100m</th>\n",
       "      <th>date</th>\n",
       "      <th>hour</th>\n",
       "      <th>elevation</th>\n",
       "      <th>weathercode</th>\n",
       "      <th>IATA</th>\n",
       "    </tr>\n",
       "  </thead>\n",
       "  <tbody>\n",
       "    <tr>\n",
       "      <th>0</th>\n",
       "      <td>2022-01-01T00:00</td>\n",
       "      <td>18.8</td>\n",
       "      <td>1.1</td>\n",
       "      <td>1.1</td>\n",
       "      <td>100</td>\n",
       "      <td>51</td>\n",
       "      <td>85</td>\n",
       "      <td>100</td>\n",
       "      <td>9.3</td>\n",
       "      <td>18.6</td>\n",
       "      <td>2022-01-01</td>\n",
       "      <td>00:00</td>\n",
       "      <td>1057</td>\n",
       "      <td>63</td>\n",
       "      <td>BSB</td>\n",
       "    </tr>\n",
       "    <tr>\n",
       "      <th>1</th>\n",
       "      <td>2022-01-01T01:00</td>\n",
       "      <td>18.4</td>\n",
       "      <td>0.9</td>\n",
       "      <td>0.9</td>\n",
       "      <td>100</td>\n",
       "      <td>95</td>\n",
       "      <td>88</td>\n",
       "      <td>99</td>\n",
       "      <td>9.7</td>\n",
       "      <td>18.3</td>\n",
       "      <td>2022-01-01</td>\n",
       "      <td>01:00</td>\n",
       "      <td>1057</td>\n",
       "      <td>63</td>\n",
       "      <td>BSB</td>\n",
       "    </tr>\n",
       "    <tr>\n",
       "      <th>2</th>\n",
       "      <td>2022-01-01T02:00</td>\n",
       "      <td>18.1</td>\n",
       "      <td>0.5</td>\n",
       "      <td>0.5</td>\n",
       "      <td>100</td>\n",
       "      <td>95</td>\n",
       "      <td>96</td>\n",
       "      <td>98</td>\n",
       "      <td>7.5</td>\n",
       "      <td>15.7</td>\n",
       "      <td>2022-01-01</td>\n",
       "      <td>02:00</td>\n",
       "      <td>1057</td>\n",
       "      <td>63</td>\n",
       "      <td>BSB</td>\n",
       "    </tr>\n",
       "    <tr>\n",
       "      <th>3</th>\n",
       "      <td>2022-01-01T03:00</td>\n",
       "      <td>18.1</td>\n",
       "      <td>0.2</td>\n",
       "      <td>0.2</td>\n",
       "      <td>100</td>\n",
       "      <td>86</td>\n",
       "      <td>71</td>\n",
       "      <td>99</td>\n",
       "      <td>5.9</td>\n",
       "      <td>13.6</td>\n",
       "      <td>2022-01-01</td>\n",
       "      <td>03:00</td>\n",
       "      <td>1057</td>\n",
       "      <td>63</td>\n",
       "      <td>BSB</td>\n",
       "    </tr>\n",
       "    <tr>\n",
       "      <th>4</th>\n",
       "      <td>2022-01-01T04:00</td>\n",
       "      <td>18.2</td>\n",
       "      <td>0.2</td>\n",
       "      <td>0.2</td>\n",
       "      <td>100</td>\n",
       "      <td>98</td>\n",
       "      <td>72</td>\n",
       "      <td>98</td>\n",
       "      <td>5.8</td>\n",
       "      <td>12.0</td>\n",
       "      <td>2022-01-01</td>\n",
       "      <td>04:00</td>\n",
       "      <td>1057</td>\n",
       "      <td>63</td>\n",
       "      <td>BSB</td>\n",
       "    </tr>\n",
       "  </tbody>\n",
       "</table>\n",
       "</div>"
      ],
      "text/plain": [
       "               time  temperature_2m  precipitation  rain  cloudcover  \\\n",
       "0  2022-01-01T00:00            18.8            1.1   1.1         100   \n",
       "1  2022-01-01T01:00            18.4            0.9   0.9         100   \n",
       "2  2022-01-01T02:00            18.1            0.5   0.5         100   \n",
       "3  2022-01-01T03:00            18.1            0.2   0.2         100   \n",
       "4  2022-01-01T04:00            18.2            0.2   0.2         100   \n",
       "\n",
       "   cloudcover_low  cloudcover_mid  cloudcover_high  windspeed_10m  \\\n",
       "0              51              85              100            9.3   \n",
       "1              95              88               99            9.7   \n",
       "2              95              96               98            7.5   \n",
       "3              86              71               99            5.9   \n",
       "4              98              72               98            5.8   \n",
       "\n",
       "   windspeed_100m        date   hour  elevation  weathercode IATA  \n",
       "0            18.6  2022-01-01  00:00       1057           63  BSB  \n",
       "1            18.3  2022-01-01  01:00       1057           63  BSB  \n",
       "2            15.7  2022-01-01  02:00       1057           63  BSB  \n",
       "3            13.6  2022-01-01  03:00       1057           63  BSB  \n",
       "4            12.0  2022-01-01  04:00       1057           63  BSB  "
      ]
     },
     "execution_count": 11,
     "metadata": {},
     "output_type": "execute_result"
    }
   ],
   "source": [
    "df_tempo.head()"
   ]
  },
  {
   "cell_type": "code",
   "execution_count": 12,
   "id": "09047b7e",
   "metadata": {},
   "outputs": [],
   "source": [
    "df_tempo.to_parquet('meteorologia.parquet')"
   ]
  },
  {
   "cell_type": "code",
   "execution_count": null,
   "id": "d2fd737a",
   "metadata": {},
   "outputs": [],
   "source": []
  }
 ],
 "metadata": {
  "kernelspec": {
   "display_name": "Python 3 (ipykernel)",
   "language": "python",
   "name": "python3"
  },
  "language_info": {
   "codemirror_mode": {
    "name": "ipython",
    "version": 3
   },
   "file_extension": ".py",
   "mimetype": "text/x-python",
   "name": "python",
   "nbconvert_exporter": "python",
   "pygments_lexer": "ipython3",
   "version": "3.9.13"
  }
 },
 "nbformat": 4,
 "nbformat_minor": 5
}
