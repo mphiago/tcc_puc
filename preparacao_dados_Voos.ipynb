{
 "cells": [
  {
   "cell_type": "markdown",
   "metadata": {},
   "source": [
    "# Processamento de dados - Voos"
   ]
  },
  {
   "cell_type": "markdown",
   "metadata": {},
   "source": [
    "Este notebook refere-se aos dados de voos coletados da ANAC.\n",
    "Neste processamento ajustamos o conjuto de dados brutos com os seguintes passos:\n",
    "\n",
    "- Leitura de dados\n",
    "- Ajuste de tipos de dados \n",
    "- Filtros de premissas (exemplo: somente voos REALIZADOS serão considerados)\n",
    "- Merge de datasets\n",
    "- Criar novas features\n",
    "- Selecionar colunas relevantes\n"
   ]
  },
  {
   "cell_type": "code",
   "execution_count": 1,
   "metadata": {},
   "outputs": [],
   "source": [
    "import numpy as np \n",
    "import pandas as pd\n",
    "import functools\n",
    "import warnings\n",
    "import holidays\n",
    "\n",
    "from datetime import datetime\n",
    "\n",
    "\n",
    "warnings.filterwarnings('ignore')\n",
    "pd.set_option('display.max_columns', 500)"
   ]
  },
  {
   "cell_type": "code",
   "execution_count": 2,
   "metadata": {},
   "outputs": [],
   "source": [
    "# Leitura de Dados\n",
    "\n",
    "# VRA infos\n",
    "df_voos = pd.read_parquet('df_voos.parquet')\n",
    "# Aeroportos\n",
    "df_aeroporto = pd.read_excel('aeroportos_BR.xlsx')\n",
    "# Empresas Areas\n",
    "df_cia_aerea = pd.read_csv('ANAC_operador_aereo-empresas_aereas.csv', sep=';')"
   ]
  },
  {
   "cell_type": "code",
   "execution_count": null,
   "metadata": {},
   "outputs": [],
   "source": []
  },
  {
   "cell_type": "code",
   "execution_count": 3,
   "metadata": {},
   "outputs": [
    {
     "name": "stdout",
     "output_type": "stream",
     "text": [
      "<class 'pandas.core.frame.DataFrame'>\n",
      "Int64Index: 875274 entries, 0 to 85366\n",
      "Data columns (total 14 columns):\n",
      " #   Column                        Non-Null Count   Dtype  \n",
      "---  ------                        --------------   -----  \n",
      " 0   Sigla ICAO Empresa Aérea      875274 non-null  object \n",
      " 1   Número Voo                    875274 non-null  object \n",
      " 2   Código DI                     875274 non-null  object \n",
      " 3   Código Tipo Linha             875271 non-null  object \n",
      " 4   Sigla ICAO Aeroporto Origem   875274 non-null  object \n",
      " 5   Sigla ICAO Aeroporto Destino  875274 non-null  object \n",
      " 6   Partida Prevista              844773 non-null  object \n",
      " 7   Partida Real                  834102 non-null  object \n",
      " 8   Chegada Prevista              844773 non-null  object \n",
      " 9   Chegada Real                  834081 non-null  object \n",
      " 10  Situacão Voo                  262771 non-null  object \n",
      " 11  Número de Assentos            72527 non-null   float64\n",
      " 12  Situação Voo                  612503 non-null  object \n",
      " 13  Unnamed: 11                   0 non-null       float64\n",
      "dtypes: float64(2), object(12)\n",
      "memory usage: 100.2+ MB\n"
     ]
    }
   ],
   "source": [
    "df_voos.info()"
   ]
  },
  {
   "cell_type": "code",
   "execution_count": 4,
   "metadata": {},
   "outputs": [
    {
     "name": "stdout",
     "output_type": "stream",
     "text": [
      "<class 'pandas.core.frame.DataFrame'>\n",
      "RangeIndex: 52 entries, 0 to 51\n",
      "Data columns (total 6 columns):\n",
      " #   Column      Non-Null Count  Dtype \n",
      "---  ------      --------------  ----- \n",
      " 0   IATA        52 non-null     object\n",
      " 1   ICAO        52 non-null     object\n",
      " 2   AEROPORTOS  52 non-null     object\n",
      " 3   CIDADE      52 non-null     object\n",
      " 4   UF          52 non-null     object\n",
      " 5   PAIS        52 non-null     object\n",
      "dtypes: object(6)\n",
      "memory usage: 2.6+ KB\n"
     ]
    }
   ],
   "source": [
    "df_aeroporto.info()"
   ]
  },
  {
   "cell_type": "code",
   "execution_count": 5,
   "metadata": {},
   "outputs": [
    {
     "name": "stdout",
     "output_type": "stream",
     "text": [
      "<class 'pandas.core.frame.DataFrame'>\n",
      "RangeIndex: 13 entries, 0 to 12\n",
      "Data columns (total 10 columns):\n",
      " #   Column                    Non-Null Count  Dtype \n",
      "---  ------                    --------------  ----- \n",
      " 0   Razão Social              13 non-null     object\n",
      " 1   ICAO IATA                 13 non-null     object\n",
      " 2   CNPJ                      13 non-null     object\n",
      " 3   Atividades Aéreas         13 non-null     object\n",
      " 4   Endereço Sede             13 non-null     object\n",
      " 5   Telefone                  13 non-null     object\n",
      " 6   E-Mail                    12 non-null     object\n",
      " 7   Decisão Operacional       13 non-null     object\n",
      " 8   Data Decisão Operacional  13 non-null     object\n",
      " 9   Validade Operacional      5 non-null      object\n",
      "dtypes: object(10)\n",
      "memory usage: 1.1+ KB\n"
     ]
    }
   ],
   "source": [
    "df_cia_aerea.info()"
   ]
  },
  {
   "cell_type": "code",
   "execution_count": 6,
   "metadata": {},
   "outputs": [
    {
     "data": {
      "text/plain": [
       "None             612503\n",
       "REALIZADO        251801\n",
       "CANCELADO         10878\n",
       "NÃO INFORMADO        92\n",
       "Name: Situacão Voo, dtype: int64"
      ]
     },
     "execution_count": 6,
     "metadata": {},
     "output_type": "execute_result"
    }
   ],
   "source": [
    "df_voos[\"Situacão Voo\"].value_counts(dropna=False)"
   ]
  },
  {
   "cell_type": "code",
   "execution_count": 7,
   "metadata": {},
   "outputs": [
    {
     "data": {
      "text/plain": [
       "REALIZADO        582302\n",
       "None             262771\n",
       "CANCELADO         29669\n",
       "NÃO INFORMADO       532\n",
       "Name: Situação Voo, dtype: int64"
      ]
     },
     "execution_count": 7,
     "metadata": {},
     "output_type": "execute_result"
    }
   ],
   "source": [
    "df_voos[\"Situação Voo\"].value_counts(dropna=False)"
   ]
  },
  {
   "cell_type": "code",
   "execution_count": null,
   "metadata": {},
   "outputs": [],
   "source": []
  },
  {
   "cell_type": "code",
   "execution_count": 8,
   "metadata": {},
   "outputs": [],
   "source": [
    "df_voos[\"Situação Voo\"] = np.where(df_voos[\"Situação Voo\"].isna(),\n",
    "                                   df_voos[\"Situacão Voo\"], \n",
    "                                   df_voos[\"Situação Voo\"]\n",
    ")"
   ]
  },
  {
   "cell_type": "code",
   "execution_count": 9,
   "metadata": {},
   "outputs": [
    {
     "data": {
      "text/plain": [
       "REALIZADO        834103\n",
       "CANCELADO         40547\n",
       "NÃO INFORMADO       624\n",
       "Name: Situação Voo, dtype: int64"
      ]
     },
     "execution_count": 9,
     "metadata": {},
     "output_type": "execute_result"
    }
   ],
   "source": [
    "df_voos[\"Situação Voo\"].value_counts(dropna=False)"
   ]
  },
  {
   "cell_type": "markdown",
   "metadata": {},
   "source": [
    "### Regras de Negócio e Filtros\n",
    "\n",
    "**Código DI**: Descrição do grupo DI ou Tipo de Voo. Refere-se ao agrupamento das classificações de DI em tipos de operações:\n",
    "\n",
    "1. Regular (DIs 0, 4 ou C)\n",
    "2. Não regular (DIs 1,2,5,7,8,9 ou D)\n",
    "3. Improdutivo (Demais DIs)\n",
    "\n",
    "**Código Tipo Linha**: Caractere que identifica o tipo de linha. O Tipo de Linha identifica o tipo de operação realizada no voo, podendo ser classificado em:\n",
    "- N - Doméstica Mista: para operações de transporte aéreo de passageiros ou mistas, em que todos os aeródromos envolvidos estejam situados simultaneamente em território brasileiro;\n",
    "\n",
    "- C - Doméstica Cargueira: para operações de transporte aéreo exclusivo de carga e/ou mala postal em que todos os aeródromos envolvidos estejam situados simultaneamente em território brasileiro;\n",
    "\n",
    "- I - Internacional Mista: para operações de transporte aéreo de passageiros ou mistas, em que ao menos um dos aeródromos envolvidos esteja situado em território estrangeiro;\n",
    "\n",
    "- G - Internacional Cargueira: para operações de transporte aéreo exclusivo de carga e/ou rede postal em que ao menos um dos aeródromos envolvidos esteja situado em território estrangeiro;"
   ]
  },
  {
   "cell_type": "code",
   "execution_count": 10,
   "metadata": {},
   "outputs": [],
   "source": [
    "df_voos = df_voos[\n",
    "    (df_voos[\"Situação Voo\"] == \"REALIZADO\") & \n",
    "    (df_voos[\"Código DI\"].isin(['0', '4', 'C'])) &\n",
    "    (df_voos[\"Código Tipo Linha\"] == 'N')\n",
    "]"
   ]
  },
  {
   "cell_type": "code",
   "execution_count": null,
   "metadata": {},
   "outputs": [],
   "source": []
  },
  {
   "cell_type": "code",
   "execution_count": 11,
   "metadata": {},
   "outputs": [],
   "source": [
    "# Extração parâmetro de datas\n",
    "\n",
    "df_voos[\"data\"] = df_voos[\"Partida Prevista\"].str[:10]"
   ]
  },
  {
   "cell_type": "code",
   "execution_count": null,
   "metadata": {},
   "outputs": [],
   "source": []
  },
  {
   "cell_type": "code",
   "execution_count": 12,
   "metadata": {},
   "outputs": [],
   "source": [
    "# Ajuste de valores para o formato de datetime \n",
    "def str_to_date(data):\n",
    "    try:\n",
    "        if(len(data) > 0):\n",
    "            dia = int(data[0:2])\n",
    "            mes = int(data[3:5])\n",
    "            ano = int(data[6:10])\n",
    "            hora = int(data [11:13])\n",
    "            minuto = int(data[-2:])\n",
    "\n",
    "            return datetime(ano, mes, dia, hora, minuto)\n",
    "        return pd.NaT\n",
    "    except:\n",
    "        return pd.NaT"
   ]
  },
  {
   "cell_type": "code",
   "execution_count": 13,
   "metadata": {},
   "outputs": [],
   "source": [
    "colunas_datas = [\"Partida Prevista\", \"Partida Real\", \"Chegada Prevista\", \"Chegada Real\"]\n",
    "\n",
    "df_voos[colunas_datas] = df_voos[colunas_datas].fillna(\"\")"
   ]
  },
  {
   "cell_type": "code",
   "execution_count": 14,
   "metadata": {},
   "outputs": [],
   "source": [
    "# Conversão de tipo para datas\n",
    "for coluna in colunas_datas:\n",
    "    df_voos[coluna] = df_voos[coluna].map(str_to_date)\n",
    "\n",
    "# Remove entradas inválidas para datas\n",
    "df_voos = df_voos.dropna(subset=colunas_datas)"
   ]
  },
  {
   "cell_type": "code",
   "execution_count": 15,
   "metadata": {},
   "outputs": [
    {
     "name": "stdout",
     "output_type": "stream",
     "text": [
      "<class 'pandas.core.frame.DataFrame'>\n",
      "Int64Index: 691291 entries, 515 to 83554\n",
      "Data columns (total 15 columns):\n",
      " #   Column                        Non-Null Count   Dtype         \n",
      "---  ------                        --------------   -----         \n",
      " 0   Sigla ICAO Empresa Aérea      691291 non-null  object        \n",
      " 1   Número Voo                    691291 non-null  object        \n",
      " 2   Código DI                     691291 non-null  object        \n",
      " 3   Código Tipo Linha             691291 non-null  object        \n",
      " 4   Sigla ICAO Aeroporto Origem   691291 non-null  object        \n",
      " 5   Sigla ICAO Aeroporto Destino  691291 non-null  object        \n",
      " 6   Partida Prevista              691291 non-null  datetime64[ns]\n",
      " 7   Partida Real                  691291 non-null  datetime64[ns]\n",
      " 8   Chegada Prevista              691291 non-null  datetime64[ns]\n",
      " 9   Chegada Real                  691291 non-null  datetime64[ns]\n",
      " 10  Situacão Voo                  211713 non-null  object        \n",
      " 11  Número de Assentos            58307 non-null   float64       \n",
      " 12  Situação Voo                  691291 non-null  object        \n",
      " 13  Unnamed: 11                   0 non-null       float64       \n",
      " 14  data                          691291 non-null  object        \n",
      "dtypes: datetime64[ns](4), float64(2), object(9)\n",
      "memory usage: 84.4+ MB\n"
     ]
    }
   ],
   "source": [
    "df_voos.info()"
   ]
  },
  {
   "cell_type": "code",
   "execution_count": null,
   "metadata": {},
   "outputs": [],
   "source": []
  },
  {
   "cell_type": "code",
   "execution_count": 16,
   "metadata": {},
   "outputs": [],
   "source": [
    "rename_columns = {\n",
    "    'Partida Prevista': 'partida_prevista', \n",
    "    'Chegada Prevista': 'chegada_prevista',\n",
    "    'Partida Real': 'partida_real',\n",
    "    'Chegada Real': 'chegada_real'\n",
    "}"
   ]
  },
  {
   "cell_type": "code",
   "execution_count": 17,
   "metadata": {},
   "outputs": [],
   "source": [
    "df_voos = df_voos.rename(columns=rename_columns)"
   ]
  },
  {
   "cell_type": "code",
   "execution_count": null,
   "metadata": {},
   "outputs": [],
   "source": []
  },
  {
   "cell_type": "code",
   "execution_count": null,
   "metadata": {},
   "outputs": [],
   "source": []
  },
  {
   "cell_type": "markdown",
   "metadata": {},
   "source": [
    "#### Aeroporto Info"
   ]
  },
  {
   "cell_type": "code",
   "execution_count": 18,
   "metadata": {},
   "outputs": [],
   "source": [
    "# Obtem os nomes do aeroporto confomre as duas instituicoes IATA e ICAO\n",
    "\n",
    "df_aeroporto[[\"Nome IATA\", \"Nome ICAO\"]] = df_aeroporto[\"AEROPORTOS\"].str.split('/', 1, expand=True)"
   ]
  },
  {
   "cell_type": "code",
   "execution_count": 19,
   "metadata": {},
   "outputs": [],
   "source": [
    "df_voo_origem = df_voos.merge(df_aeroporto[[\"IATA\",\"ICAO\"]],\n",
    "                              left_on = [\"Sigla ICAO Aeroporto Origem\"],\n",
    "                              right_on = [\"ICAO\"],\n",
    "                              how=\"inner\"\n",
    ")"
   ]
  },
  {
   "cell_type": "code",
   "execution_count": 20,
   "metadata": {},
   "outputs": [],
   "source": [
    "df_voo_aeroporto = df_voo_origem.merge(df_aeroporto[[\"IATA\",\"ICAO\"]],\n",
    "                                       left_on = [\"Sigla ICAO Aeroporto Destino\"],\n",
    "                                       right_on = [\"ICAO\"],\n",
    "                                       how=\"inner\",\n",
    "                                       suffixes=[\"_origem\", \"_destino\"]\n",
    ")"
   ]
  },
  {
   "cell_type": "code",
   "execution_count": null,
   "metadata": {},
   "outputs": [],
   "source": []
  },
  {
   "cell_type": "code",
   "execution_count": null,
   "metadata": {},
   "outputs": [],
   "source": []
  },
  {
   "cell_type": "markdown",
   "metadata": {},
   "source": [
    "#### Companhia Aérea Info"
   ]
  },
  {
   "cell_type": "code",
   "execution_count": 21,
   "metadata": {},
   "outputs": [],
   "source": [
    "# Otem o codigo IATA da empresa aerea\n",
    "df_cia_aerea[\"ICAO_empresa\"] = df_cia_aerea[\"ICAO IATA\"].str[:3]"
   ]
  },
  {
   "cell_type": "code",
   "execution_count": 22,
   "metadata": {},
   "outputs": [],
   "source": [
    "# Obtem o nome da empresa aérea\n",
    "df_cia_aerea[\"cia_aerea\"] = df_cia_aerea[\"Razão Social\"].str.split(None, 1).str[0]"
   ]
  },
  {
   "cell_type": "code",
   "execution_count": 23,
   "metadata": {},
   "outputs": [],
   "source": [
    "df_voo_infos = df_voo_aeroporto.merge(df_cia_aerea[[\"ICAO_empresa\", \"cia_aerea\"]], \n",
    "                                      left_on=\"Sigla ICAO Empresa Aérea\",\n",
    "                                      right_on=\"ICAO_empresa\", \n",
    "                                      how=\"inner\", \n",
    "                                      validate=\"m:1\"\n",
    ")"
   ]
  },
  {
   "cell_type": "code",
   "execution_count": null,
   "metadata": {},
   "outputs": [],
   "source": []
  },
  {
   "cell_type": "code",
   "execution_count": null,
   "metadata": {},
   "outputs": [],
   "source": []
  },
  {
   "cell_type": "markdown",
   "metadata": {},
   "source": [
    "### Features"
   ]
  },
  {
   "cell_type": "code",
   "execution_count": 24,
   "metadata": {},
   "outputs": [],
   "source": [
    "# Rotas \n",
    "df_voo_infos[\"rota\"] = df_voo_infos[\"IATA_origem\"] + \"_\" + df_voo_infos[\"IATA_destino\"]\n",
    "\n",
    "# Tempo\n",
    "df_voo_infos['partida_real'] = pd.to_datetime(df_voo_infos['partida_real'])\n",
    "\n",
    "# duracao\n",
    "df_voo_infos['duracao_prevista_voo'] = (df_voo_infos['partida_prevista'] - \n",
    "                                             df_voo_infos['chegada_prevista']).dt.total_seconds() / 60\n",
    "\n",
    "df_voo_infos['duracao_real_voo'] = (df_voo_infos['partida_real'] - \n",
    "                                         df_voo_infos['chegada_real']\n",
    "                                        ).dt.total_seconds() / 60\n",
    "\n",
    "# calculo do atraso, com 15 min de tolerancia\n",
    "df_voo_infos['atraso_chegada'] = df_voo_infos['chegada_real'] > (df_voo_infos['chegada_prevista'] + \n",
    "                                                                           pd.Timedelta(minutes =15))\n",
    "\n",
    "df_voo_infos['atraso_partida'] = df_voo_infos['partida_real'] > (df_voo_infos['partida_prevista'] + \n",
    "                                                                           pd.Timedelta(minutes =15))\n"
   ]
  },
  {
   "cell_type": "code",
   "execution_count": 25,
   "metadata": {},
   "outputs": [],
   "source": [
    "df_voo_infos['ano_partida'] = df_voo_infos['partida_prevista'].dt.year\n",
    "df_voo_infos['mes_partida'] = df_voo_infos['partida_prevista'].dt.month\n",
    "df_voo_infos['dia_partida'] = df_voo_infos['partida_prevista'].dt.day\n",
    "df_voo_infos['hora_partida'] = df_voo_infos['partida_prevista'].dt.hour\n"
   ]
  },
  {
   "cell_type": "code",
   "execution_count": 26,
   "metadata": {},
   "outputs": [],
   "source": [
    "df_voo_infos['tempo_atraso'] = df_voo_infos['partida_prevista'] - df_voo_infos[\"partida_real\"]"
   ]
  },
  {
   "cell_type": "code",
   "execution_count": null,
   "metadata": {},
   "outputs": [],
   "source": []
  },
  {
   "cell_type": "code",
   "execution_count": null,
   "metadata": {},
   "outputs": [],
   "source": []
  },
  {
   "cell_type": "code",
   "execution_count": 27,
   "metadata": {},
   "outputs": [],
   "source": [
    "# Definição de períodos\n",
    "\n",
    "df_voo_infos['dia_semana'] = df_voo_infos['partida_prevista'].dt.dayofweek\n",
    "df_voo_infos['fim_de_semana'] = df_voo_infos['dia_semana'].isin([5,6]).astype(int)\n",
    "\n",
    "def periodo_dia(partida):\n",
    "    horario = partida.hour\n",
    "    if horario >= 6 and  horario < 12: return 'Manha'\n",
    "    elif horario >= 12 and horario < 18: return 'Tarde'\n",
    "    elif horario >= 18 and horario < 24: return 'Noite'\n",
    "    return 'Madrugada'\n",
    "\n",
    "df_voo_infos['turno_partida'] = df_voo_infos['partida_prevista'].map(periodo_dia)\n",
    "df_voo_infos['turno_chegada'] = df_voo_infos['chegada_prevista'].map(periodo_dia)"
   ]
  },
  {
   "cell_type": "code",
   "execution_count": null,
   "metadata": {},
   "outputs": [],
   "source": []
  },
  {
   "cell_type": "markdown",
   "metadata": {},
   "source": [
    "#### Feriados"
   ]
  },
  {
   "cell_type": "code",
   "execution_count": 28,
   "metadata": {},
   "outputs": [],
   "source": [
    "# Feriados Nacionais \n",
    "\n",
    "feriados = holidays.Brazil(years=[2022]).items()\n",
    "feriados_nacionais = pd.DataFrame(feriados, columns=[\"data\", \"feriado\"])\n",
    "feriados_nacionais[\"data\"] = pd.to_datetime(feriados_nacionais[\"data\"]).dt.strftime('%d/%m/%Y')\n",
    "\n",
    "\n",
    "# Feriados nacionais`\n",
    "df_voo_infos = df_voo_infos.merge(feriados_nacionais, on=\"data\", how=\"left\", indicator=True)"
   ]
  },
  {
   "cell_type": "code",
   "execution_count": null,
   "metadata": {},
   "outputs": [],
   "source": []
  },
  {
   "cell_type": "code",
   "execution_count": 29,
   "metadata": {},
   "outputs": [],
   "source": [
    "df_voo_infos[\"feriado\"] = np.where(df_voo_infos[\"_merge\"] == \"both\",\n",
    "                                   1,\n",
    "                                   0\n",
    ")"
   ]
  },
  {
   "cell_type": "code",
   "execution_count": 30,
   "metadata": {},
   "outputs": [
    {
     "data": {
      "text/html": [
       "<div>\n",
       "<style scoped>\n",
       "    .dataframe tbody tr th:only-of-type {\n",
       "        vertical-align: middle;\n",
       "    }\n",
       "\n",
       "    .dataframe tbody tr th {\n",
       "        vertical-align: top;\n",
       "    }\n",
       "\n",
       "    .dataframe thead th {\n",
       "        text-align: right;\n",
       "    }\n",
       "</style>\n",
       "<table border=\"1\" class=\"dataframe\">\n",
       "  <thead>\n",
       "    <tr style=\"text-align: right;\">\n",
       "      <th></th>\n",
       "      <th>Sigla ICAO Empresa Aérea</th>\n",
       "      <th>Número Voo</th>\n",
       "      <th>Código DI</th>\n",
       "      <th>Código Tipo Linha</th>\n",
       "      <th>Sigla ICAO Aeroporto Origem</th>\n",
       "      <th>Sigla ICAO Aeroporto Destino</th>\n",
       "      <th>partida_prevista</th>\n",
       "      <th>partida_real</th>\n",
       "      <th>chegada_prevista</th>\n",
       "      <th>chegada_real</th>\n",
       "      <th>Situacão Voo</th>\n",
       "      <th>Número de Assentos</th>\n",
       "      <th>Situação Voo</th>\n",
       "      <th>Unnamed: 11</th>\n",
       "      <th>data</th>\n",
       "      <th>IATA_origem</th>\n",
       "      <th>ICAO_origem</th>\n",
       "      <th>IATA_destino</th>\n",
       "      <th>ICAO_destino</th>\n",
       "      <th>ICAO_empresa</th>\n",
       "      <th>cia_aerea</th>\n",
       "      <th>rota</th>\n",
       "      <th>duracao_prevista_voo</th>\n",
       "      <th>duracao_real_voo</th>\n",
       "      <th>atraso_chegada</th>\n",
       "      <th>atraso_partida</th>\n",
       "      <th>ano_partida</th>\n",
       "      <th>mes_partida</th>\n",
       "      <th>dia_partida</th>\n",
       "      <th>hora_partida</th>\n",
       "      <th>tempo_atraso</th>\n",
       "      <th>dia_semana</th>\n",
       "      <th>fim_de_semana</th>\n",
       "      <th>turno_partida</th>\n",
       "      <th>turno_chegada</th>\n",
       "      <th>feriado</th>\n",
       "      <th>_merge</th>\n",
       "    </tr>\n",
       "  </thead>\n",
       "  <tbody>\n",
       "    <tr>\n",
       "      <th>0</th>\n",
       "      <td>AZU</td>\n",
       "      <td>2451</td>\n",
       "      <td>0</td>\n",
       "      <td>N</td>\n",
       "      <td>SBRF</td>\n",
       "      <td>SBPA</td>\n",
       "      <td>2022-01-01 17:45:00</td>\n",
       "      <td>2022-01-01 17:41:00</td>\n",
       "      <td>2022-01-01 22:05:00</td>\n",
       "      <td>2022-01-01 21:49:00</td>\n",
       "      <td>REALIZADO</td>\n",
       "      <td>NaN</td>\n",
       "      <td>REALIZADO</td>\n",
       "      <td>NaN</td>\n",
       "      <td>01/01/2022</td>\n",
       "      <td>REC</td>\n",
       "      <td>SBRF</td>\n",
       "      <td>POA</td>\n",
       "      <td>SBPA</td>\n",
       "      <td>AZU</td>\n",
       "      <td>AZUL</td>\n",
       "      <td>REC_POA</td>\n",
       "      <td>-260.0</td>\n",
       "      <td>-248.0</td>\n",
       "      <td>False</td>\n",
       "      <td>False</td>\n",
       "      <td>2022</td>\n",
       "      <td>1</td>\n",
       "      <td>1</td>\n",
       "      <td>17</td>\n",
       "      <td>0 days 00:04:00</td>\n",
       "      <td>5</td>\n",
       "      <td>1</td>\n",
       "      <td>Tarde</td>\n",
       "      <td>Noite</td>\n",
       "      <td>1</td>\n",
       "      <td>both</td>\n",
       "    </tr>\n",
       "    <tr>\n",
       "      <th>1</th>\n",
       "      <td>AZU</td>\n",
       "      <td>2987</td>\n",
       "      <td>0</td>\n",
       "      <td>N</td>\n",
       "      <td>SBRF</td>\n",
       "      <td>SBPA</td>\n",
       "      <td>2022-01-02 17:25:00</td>\n",
       "      <td>2022-01-02 17:23:00</td>\n",
       "      <td>2022-01-02 21:50:00</td>\n",
       "      <td>2022-01-02 21:36:00</td>\n",
       "      <td>REALIZADO</td>\n",
       "      <td>NaN</td>\n",
       "      <td>REALIZADO</td>\n",
       "      <td>NaN</td>\n",
       "      <td>02/01/2022</td>\n",
       "      <td>REC</td>\n",
       "      <td>SBRF</td>\n",
       "      <td>POA</td>\n",
       "      <td>SBPA</td>\n",
       "      <td>AZU</td>\n",
       "      <td>AZUL</td>\n",
       "      <td>REC_POA</td>\n",
       "      <td>-265.0</td>\n",
       "      <td>-253.0</td>\n",
       "      <td>False</td>\n",
       "      <td>False</td>\n",
       "      <td>2022</td>\n",
       "      <td>1</td>\n",
       "      <td>2</td>\n",
       "      <td>17</td>\n",
       "      <td>0 days 00:02:00</td>\n",
       "      <td>6</td>\n",
       "      <td>1</td>\n",
       "      <td>Tarde</td>\n",
       "      <td>Noite</td>\n",
       "      <td>0</td>\n",
       "      <td>left_only</td>\n",
       "    </tr>\n",
       "    <tr>\n",
       "      <th>2</th>\n",
       "      <td>AZU</td>\n",
       "      <td>2638</td>\n",
       "      <td>0</td>\n",
       "      <td>N</td>\n",
       "      <td>SBRF</td>\n",
       "      <td>SBPA</td>\n",
       "      <td>2022-01-03 02:25:00</td>\n",
       "      <td>2022-01-03 02:22:00</td>\n",
       "      <td>2022-01-03 06:45:00</td>\n",
       "      <td>2022-01-03 06:30:00</td>\n",
       "      <td>REALIZADO</td>\n",
       "      <td>NaN</td>\n",
       "      <td>REALIZADO</td>\n",
       "      <td>NaN</td>\n",
       "      <td>03/01/2022</td>\n",
       "      <td>REC</td>\n",
       "      <td>SBRF</td>\n",
       "      <td>POA</td>\n",
       "      <td>SBPA</td>\n",
       "      <td>AZU</td>\n",
       "      <td>AZUL</td>\n",
       "      <td>REC_POA</td>\n",
       "      <td>-260.0</td>\n",
       "      <td>-248.0</td>\n",
       "      <td>False</td>\n",
       "      <td>False</td>\n",
       "      <td>2022</td>\n",
       "      <td>1</td>\n",
       "      <td>3</td>\n",
       "      <td>2</td>\n",
       "      <td>0 days 00:03:00</td>\n",
       "      <td>0</td>\n",
       "      <td>0</td>\n",
       "      <td>Madrugada</td>\n",
       "      <td>Manha</td>\n",
       "      <td>0</td>\n",
       "      <td>left_only</td>\n",
       "    </tr>\n",
       "    <tr>\n",
       "      <th>3</th>\n",
       "      <td>AZU</td>\n",
       "      <td>2987</td>\n",
       "      <td>0</td>\n",
       "      <td>N</td>\n",
       "      <td>SBRF</td>\n",
       "      <td>SBPA</td>\n",
       "      <td>2022-01-03 17:25:00</td>\n",
       "      <td>2022-01-03 17:22:00</td>\n",
       "      <td>2022-01-03 21:50:00</td>\n",
       "      <td>2022-01-03 21:29:00</td>\n",
       "      <td>REALIZADO</td>\n",
       "      <td>NaN</td>\n",
       "      <td>REALIZADO</td>\n",
       "      <td>NaN</td>\n",
       "      <td>03/01/2022</td>\n",
       "      <td>REC</td>\n",
       "      <td>SBRF</td>\n",
       "      <td>POA</td>\n",
       "      <td>SBPA</td>\n",
       "      <td>AZU</td>\n",
       "      <td>AZUL</td>\n",
       "      <td>REC_POA</td>\n",
       "      <td>-265.0</td>\n",
       "      <td>-247.0</td>\n",
       "      <td>False</td>\n",
       "      <td>False</td>\n",
       "      <td>2022</td>\n",
       "      <td>1</td>\n",
       "      <td>3</td>\n",
       "      <td>17</td>\n",
       "      <td>0 days 00:03:00</td>\n",
       "      <td>0</td>\n",
       "      <td>0</td>\n",
       "      <td>Tarde</td>\n",
       "      <td>Noite</td>\n",
       "      <td>0</td>\n",
       "      <td>left_only</td>\n",
       "    </tr>\n",
       "    <tr>\n",
       "      <th>4</th>\n",
       "      <td>AZU</td>\n",
       "      <td>2638</td>\n",
       "      <td>0</td>\n",
       "      <td>N</td>\n",
       "      <td>SBRF</td>\n",
       "      <td>SBPA</td>\n",
       "      <td>2022-01-04 02:25:00</td>\n",
       "      <td>2022-01-04 02:20:00</td>\n",
       "      <td>2022-01-04 06:45:00</td>\n",
       "      <td>2022-01-04 06:29:00</td>\n",
       "      <td>REALIZADO</td>\n",
       "      <td>NaN</td>\n",
       "      <td>REALIZADO</td>\n",
       "      <td>NaN</td>\n",
       "      <td>04/01/2022</td>\n",
       "      <td>REC</td>\n",
       "      <td>SBRF</td>\n",
       "      <td>POA</td>\n",
       "      <td>SBPA</td>\n",
       "      <td>AZU</td>\n",
       "      <td>AZUL</td>\n",
       "      <td>REC_POA</td>\n",
       "      <td>-260.0</td>\n",
       "      <td>-249.0</td>\n",
       "      <td>False</td>\n",
       "      <td>False</td>\n",
       "      <td>2022</td>\n",
       "      <td>1</td>\n",
       "      <td>4</td>\n",
       "      <td>2</td>\n",
       "      <td>0 days 00:05:00</td>\n",
       "      <td>1</td>\n",
       "      <td>0</td>\n",
       "      <td>Madrugada</td>\n",
       "      <td>Manha</td>\n",
       "      <td>0</td>\n",
       "      <td>left_only</td>\n",
       "    </tr>\n",
       "  </tbody>\n",
       "</table>\n",
       "</div>"
      ],
      "text/plain": [
       "  Sigla ICAO Empresa Aérea Número Voo Código DI Código Tipo Linha  \\\n",
       "0                      AZU       2451         0                 N   \n",
       "1                      AZU       2987         0                 N   \n",
       "2                      AZU       2638         0                 N   \n",
       "3                      AZU       2987         0                 N   \n",
       "4                      AZU       2638         0                 N   \n",
       "\n",
       "  Sigla ICAO Aeroporto Origem Sigla ICAO Aeroporto Destino  \\\n",
       "0                        SBRF                         SBPA   \n",
       "1                        SBRF                         SBPA   \n",
       "2                        SBRF                         SBPA   \n",
       "3                        SBRF                         SBPA   \n",
       "4                        SBRF                         SBPA   \n",
       "\n",
       "     partida_prevista        partida_real    chegada_prevista  \\\n",
       "0 2022-01-01 17:45:00 2022-01-01 17:41:00 2022-01-01 22:05:00   \n",
       "1 2022-01-02 17:25:00 2022-01-02 17:23:00 2022-01-02 21:50:00   \n",
       "2 2022-01-03 02:25:00 2022-01-03 02:22:00 2022-01-03 06:45:00   \n",
       "3 2022-01-03 17:25:00 2022-01-03 17:22:00 2022-01-03 21:50:00   \n",
       "4 2022-01-04 02:25:00 2022-01-04 02:20:00 2022-01-04 06:45:00   \n",
       "\n",
       "         chegada_real Situacão Voo  Número de Assentos Situação Voo  \\\n",
       "0 2022-01-01 21:49:00    REALIZADO                 NaN    REALIZADO   \n",
       "1 2022-01-02 21:36:00    REALIZADO                 NaN    REALIZADO   \n",
       "2 2022-01-03 06:30:00    REALIZADO                 NaN    REALIZADO   \n",
       "3 2022-01-03 21:29:00    REALIZADO                 NaN    REALIZADO   \n",
       "4 2022-01-04 06:29:00    REALIZADO                 NaN    REALIZADO   \n",
       "\n",
       "   Unnamed: 11        data IATA_origem ICAO_origem IATA_destino ICAO_destino  \\\n",
       "0          NaN  01/01/2022         REC        SBRF          POA         SBPA   \n",
       "1          NaN  02/01/2022         REC        SBRF          POA         SBPA   \n",
       "2          NaN  03/01/2022         REC        SBRF          POA         SBPA   \n",
       "3          NaN  03/01/2022         REC        SBRF          POA         SBPA   \n",
       "4          NaN  04/01/2022         REC        SBRF          POA         SBPA   \n",
       "\n",
       "  ICAO_empresa cia_aerea     rota  duracao_prevista_voo  duracao_real_voo  \\\n",
       "0          AZU      AZUL  REC_POA                -260.0            -248.0   \n",
       "1          AZU      AZUL  REC_POA                -265.0            -253.0   \n",
       "2          AZU      AZUL  REC_POA                -260.0            -248.0   \n",
       "3          AZU      AZUL  REC_POA                -265.0            -247.0   \n",
       "4          AZU      AZUL  REC_POA                -260.0            -249.0   \n",
       "\n",
       "   atraso_chegada  atraso_partida  ano_partida  mes_partida  dia_partida  \\\n",
       "0           False           False         2022            1            1   \n",
       "1           False           False         2022            1            2   \n",
       "2           False           False         2022            1            3   \n",
       "3           False           False         2022            1            3   \n",
       "4           False           False         2022            1            4   \n",
       "\n",
       "   hora_partida    tempo_atraso  dia_semana  fim_de_semana turno_partida  \\\n",
       "0            17 0 days 00:04:00           5              1         Tarde   \n",
       "1            17 0 days 00:02:00           6              1         Tarde   \n",
       "2             2 0 days 00:03:00           0              0     Madrugada   \n",
       "3            17 0 days 00:03:00           0              0         Tarde   \n",
       "4             2 0 days 00:05:00           1              0     Madrugada   \n",
       "\n",
       "  turno_chegada  feriado     _merge  \n",
       "0         Noite        1       both  \n",
       "1         Noite        0  left_only  \n",
       "2         Manha        0  left_only  \n",
       "3         Noite        0  left_only  \n",
       "4         Manha        0  left_only  "
      ]
     },
     "execution_count": 30,
     "metadata": {},
     "output_type": "execute_result"
    }
   ],
   "source": [
    "df_voo_infos.head()"
   ]
  },
  {
   "cell_type": "code",
   "execution_count": null,
   "metadata": {},
   "outputs": [],
   "source": []
  },
  {
   "cell_type": "code",
   "execution_count": 31,
   "metadata": {},
   "outputs": [],
   "source": [
    "colunas = [\n",
    "    'IATA_origem', 'ICAO_origem', 'IATA_destino', 'ICAO_destino', 'data',\n",
    "    'partida_prevista', 'partida_real', 'chegada_prevista', 'chegada_real','cia_aerea',\n",
    "    'rota', 'duracao_prevista_voo','duracao_real_voo', 'atraso_chegada', 'atraso_partida',\n",
    "    'ano_partida','mes_partida', 'dia_partida', 'hora_partida', 'tempo_atraso',\n",
    "    'dia_semana', 'fim_de_semana', 'turno_partida', 'turno_chegada', 'feriado'\n",
    "]"
   ]
  },
  {
   "cell_type": "code",
   "execution_count": 34,
   "metadata": {},
   "outputs": [],
   "source": [
    "df_voo_infos_final = df_voo_infos[colunas]"
   ]
  },
  {
   "cell_type": "code",
   "execution_count": 35,
   "metadata": {},
   "outputs": [
    {
     "name": "stdout",
     "output_type": "stream",
     "text": [
      "<class 'pandas.core.frame.DataFrame'>\n",
      "Int64Index: 612435 entries, 0 to 612434\n",
      "Data columns (total 25 columns):\n",
      " #   Column                Non-Null Count   Dtype          \n",
      "---  ------                --------------   -----          \n",
      " 0   IATA_origem           612435 non-null  object         \n",
      " 1   ICAO_origem           612435 non-null  object         \n",
      " 2   IATA_destino          612435 non-null  object         \n",
      " 3   ICAO_destino          612435 non-null  object         \n",
      " 4   data                  612435 non-null  object         \n",
      " 5   partida_prevista      612435 non-null  datetime64[ns] \n",
      " 6   partida_real          612435 non-null  datetime64[ns] \n",
      " 7   chegada_prevista      612435 non-null  datetime64[ns] \n",
      " 8   chegada_real          612435 non-null  datetime64[ns] \n",
      " 9   cia_aerea             612435 non-null  object         \n",
      " 10  rota                  612435 non-null  object         \n",
      " 11  duracao_prevista_voo  612435 non-null  float64        \n",
      " 12  duracao_real_voo      612435 non-null  float64        \n",
      " 13  atraso_chegada        612435 non-null  bool           \n",
      " 14  atraso_partida        612435 non-null  bool           \n",
      " 15  ano_partida           612435 non-null  int64          \n",
      " 16  mes_partida           612435 non-null  int64          \n",
      " 17  dia_partida           612435 non-null  int64          \n",
      " 18  hora_partida          612435 non-null  int64          \n",
      " 19  tempo_atraso          612435 non-null  timedelta64[ns]\n",
      " 20  dia_semana            612435 non-null  int64          \n",
      " 21  fim_de_semana         612435 non-null  int64          \n",
      " 22  turno_partida         612435 non-null  object         \n",
      " 23  turno_chegada         612435 non-null  object         \n",
      " 24  feriado               612435 non-null  int64          \n",
      "dtypes: bool(2), datetime64[ns](4), float64(2), int64(7), object(9), timedelta64[ns](1)\n",
      "memory usage: 113.3+ MB\n"
     ]
    }
   ],
   "source": [
    "df_voo_infos_final.info()"
   ]
  },
  {
   "cell_type": "code",
   "execution_count": 36,
   "metadata": {},
   "outputs": [],
   "source": [
    "df_voo_infos_final.to_parquet('info_voos.parquet')"
   ]
  },
  {
   "cell_type": "code",
   "execution_count": null,
   "metadata": {},
   "outputs": [],
   "source": []
  },
  {
   "cell_type": "code",
   "execution_count": null,
   "metadata": {},
   "outputs": [],
   "source": []
  }
 ],
 "metadata": {
  "kernelspec": {
   "display_name": "Python 3 (ipykernel)",
   "language": "python",
   "name": "python3"
  },
  "language_info": {
   "codemirror_mode": {
    "name": "ipython",
    "version": 3
   },
   "file_extension": ".py",
   "mimetype": "text/x-python",
   "name": "python",
   "nbconvert_exporter": "python",
   "pygments_lexer": "ipython3",
   "version": "3.9.13"
  }
 },
 "nbformat": 4,
 "nbformat_minor": 2
}
