{
 "cells": [
  {
   "cell_type": "markdown",
   "metadata": {},
   "source": [
    "### Exploração Dados de Voos"
   ]
  },
  {
   "cell_type": "code",
   "execution_count": 1,
   "metadata": {},
   "outputs": [],
   "source": [
    "# Define required imports\n",
    "import pandas as pd\n",
    "import numpy as np\n",
    "import seaborn as sns\n",
    "import matplotlib.pyplot as plt\n",
    "sns.set_theme(style='darkgrid', palette='deep')\n",
    "\n",
    "pd.set_option('display.max_columns', 50)\n",
    "pd.set_option('display.max_rows', 50)"
   ]
  },
  {
   "cell_type": "code",
   "execution_count": 2,
   "metadata": {},
   "outputs": [],
   "source": [
    "df_voos = pd.read_parquet('info_voos.parquet')"
   ]
  },
  {
   "cell_type": "code",
   "execution_count": 3,
   "metadata": {},
   "outputs": [
    {
     "data": {
      "text/html": [
       "<div>\n",
       "<style scoped>\n",
       "    .dataframe tbody tr th:only-of-type {\n",
       "        vertical-align: middle;\n",
       "    }\n",
       "\n",
       "    .dataframe tbody tr th {\n",
       "        vertical-align: top;\n",
       "    }\n",
       "\n",
       "    .dataframe thead th {\n",
       "        text-align: right;\n",
       "    }\n",
       "</style>\n",
       "<table border=\"1\" class=\"dataframe\">\n",
       "  <thead>\n",
       "    <tr style=\"text-align: right;\">\n",
       "      <th></th>\n",
       "      <th>IATA_origem</th>\n",
       "      <th>ICAO_origem</th>\n",
       "      <th>IATA_destino</th>\n",
       "      <th>ICAO_destino</th>\n",
       "      <th>data</th>\n",
       "      <th>partida_prevista</th>\n",
       "      <th>partida_real</th>\n",
       "      <th>chegada_prevista</th>\n",
       "      <th>chegada_real</th>\n",
       "      <th>cia_aerea</th>\n",
       "      <th>rota</th>\n",
       "      <th>duracao_prevista_voo</th>\n",
       "      <th>duracao_real_voo</th>\n",
       "      <th>atraso_chegada</th>\n",
       "      <th>atraso_partida</th>\n",
       "      <th>ano_partida</th>\n",
       "      <th>mes_partida</th>\n",
       "      <th>dia_partida</th>\n",
       "      <th>hora_partida</th>\n",
       "      <th>tempo_atraso</th>\n",
       "      <th>dia_semana</th>\n",
       "      <th>fim_de_semana</th>\n",
       "      <th>turno_partida</th>\n",
       "      <th>turno_chegada</th>\n",
       "      <th>feriado</th>\n",
       "    </tr>\n",
       "  </thead>\n",
       "  <tbody>\n",
       "    <tr>\n",
       "      <th>0</th>\n",
       "      <td>REC</td>\n",
       "      <td>SBRF</td>\n",
       "      <td>POA</td>\n",
       "      <td>SBPA</td>\n",
       "      <td>01/01/2022</td>\n",
       "      <td>2022-01-01 17:45:00</td>\n",
       "      <td>2022-01-01 17:41:00</td>\n",
       "      <td>2022-01-01 22:05:00</td>\n",
       "      <td>2022-01-01 21:49:00</td>\n",
       "      <td>AZUL</td>\n",
       "      <td>REC_POA</td>\n",
       "      <td>-260.0</td>\n",
       "      <td>-248.0</td>\n",
       "      <td>False</td>\n",
       "      <td>False</td>\n",
       "      <td>2022</td>\n",
       "      <td>1</td>\n",
       "      <td>1</td>\n",
       "      <td>17</td>\n",
       "      <td>0 days 00:04:00</td>\n",
       "      <td>5</td>\n",
       "      <td>1</td>\n",
       "      <td>Tarde</td>\n",
       "      <td>Noite</td>\n",
       "      <td>1</td>\n",
       "    </tr>\n",
       "    <tr>\n",
       "      <th>1</th>\n",
       "      <td>REC</td>\n",
       "      <td>SBRF</td>\n",
       "      <td>POA</td>\n",
       "      <td>SBPA</td>\n",
       "      <td>02/01/2022</td>\n",
       "      <td>2022-01-02 17:25:00</td>\n",
       "      <td>2022-01-02 17:23:00</td>\n",
       "      <td>2022-01-02 21:50:00</td>\n",
       "      <td>2022-01-02 21:36:00</td>\n",
       "      <td>AZUL</td>\n",
       "      <td>REC_POA</td>\n",
       "      <td>-265.0</td>\n",
       "      <td>-253.0</td>\n",
       "      <td>False</td>\n",
       "      <td>False</td>\n",
       "      <td>2022</td>\n",
       "      <td>1</td>\n",
       "      <td>2</td>\n",
       "      <td>17</td>\n",
       "      <td>0 days 00:02:00</td>\n",
       "      <td>6</td>\n",
       "      <td>1</td>\n",
       "      <td>Tarde</td>\n",
       "      <td>Noite</td>\n",
       "      <td>0</td>\n",
       "    </tr>\n",
       "    <tr>\n",
       "      <th>2</th>\n",
       "      <td>REC</td>\n",
       "      <td>SBRF</td>\n",
       "      <td>POA</td>\n",
       "      <td>SBPA</td>\n",
       "      <td>03/01/2022</td>\n",
       "      <td>2022-01-03 02:25:00</td>\n",
       "      <td>2022-01-03 02:22:00</td>\n",
       "      <td>2022-01-03 06:45:00</td>\n",
       "      <td>2022-01-03 06:30:00</td>\n",
       "      <td>AZUL</td>\n",
       "      <td>REC_POA</td>\n",
       "      <td>-260.0</td>\n",
       "      <td>-248.0</td>\n",
       "      <td>False</td>\n",
       "      <td>False</td>\n",
       "      <td>2022</td>\n",
       "      <td>1</td>\n",
       "      <td>3</td>\n",
       "      <td>2</td>\n",
       "      <td>0 days 00:03:00</td>\n",
       "      <td>0</td>\n",
       "      <td>0</td>\n",
       "      <td>Madrugada</td>\n",
       "      <td>Manha</td>\n",
       "      <td>0</td>\n",
       "    </tr>\n",
       "    <tr>\n",
       "      <th>3</th>\n",
       "      <td>REC</td>\n",
       "      <td>SBRF</td>\n",
       "      <td>POA</td>\n",
       "      <td>SBPA</td>\n",
       "      <td>03/01/2022</td>\n",
       "      <td>2022-01-03 17:25:00</td>\n",
       "      <td>2022-01-03 17:22:00</td>\n",
       "      <td>2022-01-03 21:50:00</td>\n",
       "      <td>2022-01-03 21:29:00</td>\n",
       "      <td>AZUL</td>\n",
       "      <td>REC_POA</td>\n",
       "      <td>-265.0</td>\n",
       "      <td>-247.0</td>\n",
       "      <td>False</td>\n",
       "      <td>False</td>\n",
       "      <td>2022</td>\n",
       "      <td>1</td>\n",
       "      <td>3</td>\n",
       "      <td>17</td>\n",
       "      <td>0 days 00:03:00</td>\n",
       "      <td>0</td>\n",
       "      <td>0</td>\n",
       "      <td>Tarde</td>\n",
       "      <td>Noite</td>\n",
       "      <td>0</td>\n",
       "    </tr>\n",
       "    <tr>\n",
       "      <th>4</th>\n",
       "      <td>REC</td>\n",
       "      <td>SBRF</td>\n",
       "      <td>POA</td>\n",
       "      <td>SBPA</td>\n",
       "      <td>04/01/2022</td>\n",
       "      <td>2022-01-04 02:25:00</td>\n",
       "      <td>2022-01-04 02:20:00</td>\n",
       "      <td>2022-01-04 06:45:00</td>\n",
       "      <td>2022-01-04 06:29:00</td>\n",
       "      <td>AZUL</td>\n",
       "      <td>REC_POA</td>\n",
       "      <td>-260.0</td>\n",
       "      <td>-249.0</td>\n",
       "      <td>False</td>\n",
       "      <td>False</td>\n",
       "      <td>2022</td>\n",
       "      <td>1</td>\n",
       "      <td>4</td>\n",
       "      <td>2</td>\n",
       "      <td>0 days 00:05:00</td>\n",
       "      <td>1</td>\n",
       "      <td>0</td>\n",
       "      <td>Madrugada</td>\n",
       "      <td>Manha</td>\n",
       "      <td>0</td>\n",
       "    </tr>\n",
       "  </tbody>\n",
       "</table>\n",
       "</div>"
      ],
      "text/plain": [
       "  IATA_origem ICAO_origem IATA_destino ICAO_destino        data  \\\n",
       "0         REC        SBRF          POA         SBPA  01/01/2022   \n",
       "1         REC        SBRF          POA         SBPA  02/01/2022   \n",
       "2         REC        SBRF          POA         SBPA  03/01/2022   \n",
       "3         REC        SBRF          POA         SBPA  03/01/2022   \n",
       "4         REC        SBRF          POA         SBPA  04/01/2022   \n",
       "\n",
       "     partida_prevista        partida_real    chegada_prevista  \\\n",
       "0 2022-01-01 17:45:00 2022-01-01 17:41:00 2022-01-01 22:05:00   \n",
       "1 2022-01-02 17:25:00 2022-01-02 17:23:00 2022-01-02 21:50:00   \n",
       "2 2022-01-03 02:25:00 2022-01-03 02:22:00 2022-01-03 06:45:00   \n",
       "3 2022-01-03 17:25:00 2022-01-03 17:22:00 2022-01-03 21:50:00   \n",
       "4 2022-01-04 02:25:00 2022-01-04 02:20:00 2022-01-04 06:45:00   \n",
       "\n",
       "         chegada_real cia_aerea     rota  duracao_prevista_voo  \\\n",
       "0 2022-01-01 21:49:00      AZUL  REC_POA                -260.0   \n",
       "1 2022-01-02 21:36:00      AZUL  REC_POA                -265.0   \n",
       "2 2022-01-03 06:30:00      AZUL  REC_POA                -260.0   \n",
       "3 2022-01-03 21:29:00      AZUL  REC_POA                -265.0   \n",
       "4 2022-01-04 06:29:00      AZUL  REC_POA                -260.0   \n",
       "\n",
       "   duracao_real_voo  atraso_chegada  atraso_partida  ano_partida  mes_partida  \\\n",
       "0            -248.0           False           False         2022            1   \n",
       "1            -253.0           False           False         2022            1   \n",
       "2            -248.0           False           False         2022            1   \n",
       "3            -247.0           False           False         2022            1   \n",
       "4            -249.0           False           False         2022            1   \n",
       "\n",
       "   dia_partida  hora_partida    tempo_atraso  dia_semana  fim_de_semana  \\\n",
       "0            1            17 0 days 00:04:00           5              1   \n",
       "1            2            17 0 days 00:02:00           6              1   \n",
       "2            3             2 0 days 00:03:00           0              0   \n",
       "3            3            17 0 days 00:03:00           0              0   \n",
       "4            4             2 0 days 00:05:00           1              0   \n",
       "\n",
       "  turno_partida turno_chegada  feriado  \n",
       "0         Tarde         Noite        1  \n",
       "1         Tarde         Noite        0  \n",
       "2     Madrugada         Manha        0  \n",
       "3         Tarde         Noite        0  \n",
       "4     Madrugada         Manha        0  "
      ]
     },
     "execution_count": 3,
     "metadata": {},
     "output_type": "execute_result"
    }
   ],
   "source": [
    "df_voos.head()"
   ]
  },
  {
   "cell_type": "code",
   "execution_count": null,
   "metadata": {},
   "outputs": [],
   "source": []
  },
  {
   "cell_type": "code",
   "execution_count": 4,
   "metadata": {},
   "outputs": [],
   "source": [
    "df_voos = df_voos[\n",
    "    df_voos[\"cia_aerea\"].isin(['AZUL', 'GOL', 'TAM'])\n",
    "]"
   ]
  },
  {
   "cell_type": "code",
   "execution_count": null,
   "metadata": {},
   "outputs": [],
   "source": []
  },
  {
   "cell_type": "markdown",
   "metadata": {},
   "source": [
    "Algumas perguntas para exploração inicial sobre o conjunto de dados.\n",
    "\n",
    "**Perguntas**   \n",
    "1. Quantas linhas e colunas o conjunto de dados tem?   \n",
    "2. Quantos anos estão inclusos no conjunto de dados?   \n",
    "3. Qual é o intervalo de datas do conjunto de dados?   \n",
    "4. Quais companhias aéreas estão inclusas no conjunto de dados?   \n",
    "5. Quais aeroportos de origem e destino estão incluídos?"
   ]
  },
  {
   "cell_type": "code",
   "execution_count": 5,
   "metadata": {},
   "outputs": [
    {
     "name": "stdout",
     "output_type": "stream",
     "text": [
      "O conjunto de dados têm 607957 linhas e 25 colunas\n",
      "Os anos neste conjunto de dados são:  [2022]\n",
      "Os meses cobertos neste conjunto de dados são:  [1, 2, 3, 4, 5, 6, 7, 8, 9, 10, 11, 12]\n",
      "O intervalo de datas dos dados é: 2022-01-01 00:05:00  até  2022-12-31 23:55:00\n",
      "As companhias aéreas cobertas neste conjunto de dados são:  ['AZUL', 'GOL', 'TAM']\n",
      "Quantidade de aeroportos de origem cobertos são:  51\n",
      "Quantidade de aeroportos de destino cobertos são:  51\n"
     ]
    }
   ],
   "source": [
    "print(\"O conjunto de dados têm {} linhas e {} colunas\".format(\n",
    "      df_voos.shape[0],  df_voos.shape[1]))\n",
    "print(\"Os anos neste conjunto de dados são: \", \n",
    "      list(df_voos[\"ano_partida\"].unique()))\n",
    "print(\"Os meses cobertos neste conjunto de dados são: \", \n",
    "      sorted(list(df_voos[\"mes_partida\"].unique())))\n",
    "print(\"O intervalo de datas dos dados é:\" ,\n",
    "      min(df_voos[\"partida_prevista\"]), \" até \",\n",
    "      max(df_voos[\"partida_prevista\"]))\n",
    "print(\"As companhias aéreas cobertas neste conjunto de dados são: \", \n",
    "      list(df_voos[\"cia_aerea\"].unique()))\n",
    "print(\"Quantidade de aeroportos de origem cobertos são: \", \n",
    "      df_voos[\"IATA_origem\"].nunique())\n",
    "print(\"Quantidade de aeroportos de destino cobertos são: \", \n",
    "      df_voos[\"IATA_destino\"].nunique())"
   ]
  },
  {
   "cell_type": "code",
   "execution_count": null,
   "metadata": {},
   "outputs": [],
   "source": []
  },
  {
   "cell_type": "code",
   "execution_count": null,
   "metadata": {},
   "outputs": [],
   "source": []
  },
  {
   "cell_type": "markdown",
   "metadata": {},
   "source": [
    "**Pergunta**: Quais são os 10 principais aeroportos de origem e destino com base no número de voos?"
   ]
  },
  {
   "cell_type": "code",
   "execution_count": 6,
   "metadata": {},
   "outputs": [],
   "source": [
    "contagem = pd.DataFrame({'Origem': df_voos['IATA_origem'].value_counts(), \n",
    "                         'Destino': df_voos['IATA_destino'].value_counts()})\n",
    "\n",
    "top_aeropostos = contagem.sort_values(by=['Origem'],\n",
    "                                      ascending=False).head(10).reset_index().rename(columns=\n",
    "                                                                                     {'index':'aeroporto_nome'})\n",
    "\n",
    "df_count = pd.melt(top_aeropostos, id_vars=[\"aeroporto_nome\"], \n",
    "                  var_name=\"Tipo\", value_name=\"Quantidade\")\n",
    "\n",
    "top_aeropostos.to_parquet('top_10_aeroportos.parquet')"
   ]
  },
  {
   "cell_type": "code",
   "execution_count": null,
   "metadata": {},
   "outputs": [],
   "source": []
  },
  {
   "cell_type": "code",
   "execution_count": 7,
   "metadata": {
    "scrolled": false
   },
   "outputs": [
    {
     "data": {
      "image/png": "[encoded data removed]",
      "text/plain": [
       "<Figure size 706.75x600 with 1 Axes>"
      ]
     },
     "metadata": {},
     "output_type": "display_data"
    }
   ],
   "source": [
    "g = sns.catplot(\n",
    "    data=df_count, kind=\"bar\",\n",
    "    x=\"aeroporto_nome\", y=\"Quantidade\", hue=\"Tipo\",\n",
    "    errorbar=\"sd\", palette=\"dark\", alpha=.6, height=6\n",
    ").set(title='Top 10 Aeroportos')\n",
    "g.despine(left=True)\n",
    "g.set_axis_labels(\"\", \"Quantidade de voos\")\n",
    "g.legend.set_title(\"\")"
   ]
  },
  {
   "cell_type": "code",
   "execution_count": null,
   "metadata": {},
   "outputs": [],
   "source": []
  },
  {
   "cell_type": "code",
   "execution_count": null,
   "metadata": {},
   "outputs": [],
   "source": []
  },
  {
   "cell_type": "code",
   "execution_count": null,
   "metadata": {},
   "outputs": [],
   "source": []
  },
  {
   "cell_type": "markdown",
   "metadata": {},
   "source": [
    "### Exploração Dataset Final"
   ]
  },
  {
   "cell_type": "code",
   "execution_count": null,
   "metadata": {},
   "outputs": [],
   "source": [
    "dataset_final = pd.read_parquet('dataset_voos.parquet')"
   ]
  },
  {
   "cell_type": "code",
   "execution_count": null,
   "metadata": {},
   "outputs": [],
   "source": [
    "dataset_final.head()"
   ]
  },
  {
   "cell_type": "code",
   "execution_count": null,
   "metadata": {},
   "outputs": [],
   "source": [
    "dataset_final = dataset_final.drop(columns=['data','rota','chegada_prevista', 'chegada_real',\n",
    "              'duracao_prevista_voo', 'duracao_real_voo','atraso_chegada','tempo_atraso', \n",
    "              'time', 'date', 'hour','IATA','hora'])"
   ]
  },
  {
   "cell_type": "code",
   "execution_count": null,
   "metadata": {},
   "outputs": [],
   "source": [
    "dataset_final.info()"
   ]
  },
  {
   "cell_type": "markdown",
   "metadata": {},
   "source": [
    "**Pergunta**: considerando todas as informações sobre um voo, você pode prever se ele atrasaria?"
   ]
  },
  {
   "cell_type": "markdown",
   "metadata": {},
   "source": [
    "A coluna **atraso_partida** é uma variável indicadora que assume o valor 1 quando o atraso de chegada é superior a 15 minutos, 0 caso contrário. \n",
    "\n",
    "Essa coluna será o target para o problema de classificação."
   ]
  },
  {
   "cell_type": "code",
   "execution_count": null,
   "metadata": {},
   "outputs": [],
   "source": []
  },
  {
   "cell_type": "markdown",
   "metadata": {},
   "source": [
    "### Distribuição dos Dados"
   ]
  },
  {
   "cell_type": "markdown",
   "metadata": {},
   "source": [
    "#### Relação entre classe com atraso e sem atraso"
   ]
  },
  {
   "cell_type": "code",
   "execution_count": null,
   "metadata": {},
   "outputs": [],
   "source": [
    "contagem_voos = (dataset_final.groupby('atraso_partida').size()/len(dataset_final))\n",
    "\n",
    "print('No Horário: {:.2f}%'.format(contagem_voos[0] * 100))\n",
    "print('Atrasado: {:.2f}%'.format(contagem_voos[1] * 100))\n",
    "\n",
    "contagem_voos.plot(kind='bar')\n",
    "plt.ylabel('Frequência')\n",
    "plt.title('Distribuição de Classes')\n",
    "plt.show()"
   ]
  },
  {
   "cell_type": "markdown",
   "metadata": {},
   "source": [
    "Observamos que 86.85% dos voos chegam no horário, mas 13.15% não. Logo, há um desequilíbrio de classes."
   ]
  },
  {
   "cell_type": "code",
   "execution_count": null,
   "metadata": {},
   "outputs": [],
   "source": []
  },
  {
   "cell_type": "code",
   "execution_count": null,
   "metadata": {},
   "outputs": [],
   "source": []
  },
  {
   "cell_type": "markdown",
   "metadata": {},
   "source": [
    "**Perguntas**: \n",
    "\n",
    "- Quais meses têm mais atrasos?\n",
    "- Qual dia do mês mais tem atrasos?\n",
    "- Qual horário do dia tem mais atrasos?\n",
    "- Qual dia da semana tem mais atrasos?\n",
    "- Qual turno tem mais atrasos?\n",
    "- Qual companhia aérea tem mais atrasos?\n",
    "- Quais aeroportos de origem e destino têm mais atrasos?"
   ]
  },
  {
   "cell_type": "code",
   "execution_count": null,
   "metadata": {},
   "outputs": [],
   "source": [
    "dia_da_semana_str = ['segunda-feira', 'terça-feira', 'quarta-feira', \n",
    "                     'quinta-feira', 'sexta-feira', 'sábado', 'domingo']"
   ]
  },
  {
   "cell_type": "code",
   "execution_count": null,
   "metadata": {},
   "outputs": [],
   "source": [
    "dataset_final['dia_semana_nome'] = dataset_final['dia_semana'].apply(lambda x: dia_da_semana_str[x])"
   ]
  },
  {
   "cell_type": "code",
   "execution_count": null,
   "metadata": {},
   "outputs": [],
   "source": []
  },
  {
   "cell_type": "code",
   "execution_count": null,
   "metadata": {},
   "outputs": [],
   "source": [
    "viz_columns = ['mes_partida', 'dia_partida', 'hora_partida', 'dia_semana_nome', 'turno_partida', 'cia_aerea'] \n",
    "\n",
    "fig, axes = plt.subplots(3, 2, figsize=(20,20), squeeze=False)\n",
    "\n",
    "for idx, column in enumerate(viz_columns):\n",
    "    ax = axes[idx//2, idx%2]\n",
    "    column_sort = column if column != 'dia_semana_nome' else 'dia_semana'\n",
    "    column_group = [column] if column != 'dia_semana_nome' else [column,'dia_semana']\n",
    "    \n",
    "    temp = dataset_final.groupby(column_group)['atraso_partida'].value_counts(normalize=True).rename('porcentagem').\\\n",
    "    mul(100).reset_index().sort_values(column_sort)\n",
    "    sns.barplot(x=column, y=\"porcentagem\", hue=\"atraso_partida\", data=temp, ax=ax)\n",
    "    plt.ylabel('% atraso/sem-atraso')\n",
    "    \n",
    "\n",
    "plt.show()"
   ]
  },
  {
   "cell_type": "code",
   "execution_count": null,
   "metadata": {},
   "outputs": [],
   "source": []
  },
  {
   "cell_type": "markdown",
   "metadata": {},
   "source": [
    "**Observações**\n",
    "- Há um percentual maior de atraso no final do ano nos meses de Novembro(11) e Dezembro(12) e Janeiro (1).\n",
    "- Os dias de maior atraso são 10, 11 e 16 do mês.\n",
    "- O horário de 14 hs e 15 hs possuem maior atraso, seguido pelo horário de 22 hs.\n",
    "- Os atrasos são maiores no período da noite e a tarde.\n",
    "- Quinta-feira e Sexta-feira têm atrasos relativamente maiores do que os demais dias.\n",
    "- A cia aérea de maior atraso é a GOL."
   ]
  },
  {
   "cell_type": "code",
   "execution_count": null,
   "metadata": {},
   "outputs": [],
   "source": []
  },
  {
   "cell_type": "markdown",
   "metadata": {},
   "source": [
    "### Relações entrea as variáveis"
   ]
  },
  {
   "cell_type": "code",
   "execution_count": null,
   "metadata": {},
   "outputs": [],
   "source": []
  },
  {
   "cell_type": "code",
   "execution_count": null,
   "metadata": {},
   "outputs": [],
   "source": [
    "# Plot correlation matrix in heatmap\n",
    "fig, ax = plt.subplots(figsize=(10, 6))\n",
    "sns.heatmap(dataset_final.corr(), ax=ax)\n",
    "plt.show()"
   ]
  },
  {
   "cell_type": "code",
   "execution_count": null,
   "metadata": {},
   "outputs": [],
   "source": [
    "fig, ax = plt.subplots(3,1, figsize=(12, 12))\n",
    "## Correlation coefficient using different methods\n",
    "corr1 = dataset_final.corr('pearson')[['atraso_partida']].sort_values(by='atraso_partida', ascending=False)\n",
    "corr2 = dataset_final.corr('spearman')[['atraso_partida']].sort_values(by='atraso_partida', ascending=False)\n",
    "corr3 = dataset_final.corr('kendall')[['atraso_partida']].sort_values(by='atraso_partida', ascending=False)\n",
    "\n",
    "#setting titles for each plot\n",
    "ax[0].set_title('Método Pearson')\n",
    "ax[1].set_title('Método Spearman')\n",
    "ax[2].set_title('Método Kendall')\n",
    "## Generating heatmaps of each methods\n",
    "sns.heatmap(corr1, ax=ax[0], annot=True)\n",
    "sns.heatmap(corr2, ax=ax[1], annot=True)\n",
    "sns.heatmap(corr3, ax=ax[2], annot=True)\n",
    "\n",
    "plt.show()"
   ]
  },
  {
   "cell_type": "code",
   "execution_count": null,
   "metadata": {},
   "outputs": [],
   "source": []
  },
  {
   "cell_type": "code",
   "execution_count": null,
   "metadata": {},
   "outputs": [],
   "source": []
  },
  {
   "cell_type": "markdown",
   "metadata": {},
   "source": [
    "### Densidade de Variáveis"
   ]
  },
  {
   "cell_type": "code",
   "execution_count": null,
   "metadata": {},
   "outputs": [],
   "source": [
    "numeric_cols = ['mes_partida', 'hora_partida','dia_semana', 'temperature_2m',\n",
    "                'precipitation', 'rain', 'cloudcover', 'cloudcover_low'\n",
    "               ]"
   ]
  },
  {
   "cell_type": "code",
   "execution_count": null,
   "metadata": {},
   "outputs": [],
   "source": [
    "dataset_final[numeric_cols].plot(kind='density',figsize=(20,20),\n",
    "                    subplots=True,layout=(6,2),\n",
    "                    title=\"Densidade de Features Numéricas\",sharex=False)\n",
    "plt.show()"
   ]
  },
  {
   "cell_type": "code",
   "execution_count": null,
   "metadata": {},
   "outputs": [],
   "source": []
  },
  {
   "cell_type": "code",
   "execution_count": null,
   "metadata": {},
   "outputs": [],
   "source": [
    "numeric_cols = ['cloudcover_mid', 'cloudcover_high', \n",
    "                'windspeed_10m', 'windspeed_100m','elevation', 'weathercode']\n",
    "\n",
    "dataset_final[numeric_cols].plot(kind='density',figsize=(20,20),\n",
    "                    subplots=True,layout=(6,2),\n",
    "                    title=\"Densidade de Features Numéricas\",sharex=False)\n",
    "plt.show()"
   ]
  },
  {
   "cell_type": "code",
   "execution_count": null,
   "metadata": {},
   "outputs": [],
   "source": []
  },
  {
   "cell_type": "code",
   "execution_count": null,
   "metadata": {},
   "outputs": [],
   "source": []
  },
  {
   "cell_type": "code",
   "execution_count": null,
   "metadata": {},
   "outputs": [],
   "source": []
  }
 ],
 "metadata": {
  "kernelspec": {
   "display_name": "Python 3 (ipykernel)",
   "language": "python",
   "name": "python3"
  },
  "language_info": {
   "codemirror_mode": {
    "name": "ipython",
    "version": 3
   },
   "file_extension": ".py",
   "mimetype": "text/x-python",
   "name": "python",
   "nbconvert_exporter": "python",
   "pygments_lexer": "ipython3",
   "version": "3.9.13"
  }
 },
 "nbformat": 4,
 "nbformat_minor": 2
}
