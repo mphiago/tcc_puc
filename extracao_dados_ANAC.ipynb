{
 "cells": [
  {
   "cell_type": "markdown",
   "metadata": {},
   "source": [
    "### Histórico de Voos"
   ]
  },
  {
   "cell_type": "markdown",
   "metadata": {},
   "source": [
    "O [Voo Regular Ativo – VRA](http://www.gov.br/anac/pt-br/assuntos/dados-e-estatisticas/historico-de-voos)  é uma base de dados composta por informações de voos de empresas de transporte aéreo que apresenta os cancelamentos e horários em que os voos ocorreram.\n",
    "\n",
    "A ANAC torna pública a série histórica do Voo Regular Ativo para que sejam realizados estudos e análises. \n",
    "\n",
    "A base de dados mensal do VRA, é disponibilizada em formato “csv”. \n",
    "O mês é em referência às etapas cujas decolagens eram previstas para o mês em questão ou cujas decolagens, em caso de etapa não prevista, foram realizadas no mês em questão.\n",
    "\n",
    "Utilizando a técnica de Web Scrapping, iremos buscar todos os links para download dos respectivos arquivos de interesse.\n",
    "\n",
    "###### Importante\n",
    "Foi necessário utilização de Web Scrapping pois os arquivos não possuem padronização de nomenclatura, pois alguns estão como vra e outros VRA.\n",
    "\n",
    "**Index**\n",
    "1. [Coleta de Dados (Web Scrapping)](#Coleta-de-Dados-(Web-Scrapping))\n",
    "2. [Download Arquivos](#Download-Arquivos)"
   ]
  },
  {
   "cell_type": "markdown",
   "metadata": {},
   "source": [
    "### Coleta de Dados (Web Scraping)"
   ]
  },
  {
   "cell_type": "code",
   "execution_count": 1,
   "metadata": {},
   "outputs": [],
   "source": [
    "import requests as rq\n",
    "from bs4 import BeautifulSoup\n",
    "\n",
    "headers = {\n",
    "    'Access-Control-Allow-Origin': '*',\n",
    "    'Access-Control-Allow-Methods': 'GET',\n",
    "    'Access-Control-Allow-Headers': 'Content-Type',\n",
    "    'Access-Control-Max-Age': '3600',\n",
    "    'User-Agent': 'Mozilla/5.0 (X11; Ubuntu; Linux x86_64; rv:52.0) Gecko/20100101 Firefox/52.0'\n",
    "}\n",
    "\n",
    "url = \"https://www.gov.br/anac/pt-br/assuntos/dados-e-estatisticas/historico-de-voos\"\n",
    "req = rq.get(url, headers)\n",
    "soup = BeautifulSoup(req.content, 'html.parser')\n",
    "\n",
    "# Obtem os links para os arquivos\n",
    "url_arquivos = soup.find_all(class_=\"internal-link\")\n",
    "links = [url.attrs['href'] for url in url_arquivos]"
   ]
  },
  {
   "cell_type": "code",
   "execution_count": 2,
   "metadata": {},
   "outputs": [],
   "source": [
    "# Filtro para os links de interesses\n",
    "\n",
    "anos = ['2022']\n",
    "\n",
    "links_arquivos = []\n",
    "for ano in anos:\n",
    "    links_arquivos.append([link for link in links if ano in link])"
   ]
  },
  {
   "cell_type": "code",
   "execution_count": null,
   "metadata": {},
   "outputs": [],
   "source": []
  },
  {
   "cell_type": "markdown",
   "metadata": {},
   "source": [
    "### Download Arquivos"
   ]
  },
  {
   "cell_type": "code",
   "execution_count": 3,
   "metadata": {},
   "outputs": [
    {
     "name": "stdout",
     "output_type": "stream",
     "text": [
      "Criado caminho: dados/historico_ANAC/\n",
      "https://www.gov.br/anac/pt-br/assuntos/dados-e-estatisticas/percentuais-de-atrasos-e-cancelamentos-2/2022/vra_01_2022.csv\n",
      "https://www.gov.br/anac/pt-br/assuntos/dados-e-estatisticas/percentuais-de-atrasos-e-cancelamentos-2/2022/VRA_02_2022.csv\n",
      "https://www.gov.br/anac/pt-br/assuntos/dados-e-estatisticas/percentuais-de-atrasos-e-cancelamentos-2/2022/VRA_03_2022.csv\n",
      "https://www.gov.br/anac/pt-br/assuntos/dados-e-estatisticas/percentuais-de-atrasos-e-cancelamentos-2/2022/vra_04_2022.csv\n",
      "https://www.gov.br/anac/pt-br/assuntos/dados-e-estatisticas/percentuais-de-atrasos-e-cancelamentos-2/2022/VRA_05_2022.csv\n",
      "https://www.gov.br/anac/pt-br/assuntos/dados-e-estatisticas/percentuais-de-atrasos-e-cancelamentos-2/2022/vra_06_2022.csv\n",
      "https://www.gov.br/anac/pt-br/assuntos/dados-e-estatisticas/percentuais-de-atrasos-e-cancelamentos-2/2022/vra_07_2022.csv\n",
      "https://www.gov.br/anac/pt-br/assuntos/dados-e-estatisticas/percentuais-de-atrasos-e-cancelamentos-2/2022/VRA_08_2022.csv\n",
      "https://www.gov.br/anac/pt-br/assuntos/dados-e-estatisticas/percentuais-de-atrasos-e-cancelamentos-2/2022/vra_2022_09.csv\n",
      "https://www.gov.br/anac/pt-br/assuntos/dados-e-estatisticas/percentuais-de-atrasos-e-cancelamentos-2/2022/vra_2022_10.csv\n",
      "https://www.gov.br/anac/pt-br/assuntos/dados-e-estatisticas/percentuais-de-atrasos-e-cancelamentos-2/2022/vra_2022_11.csv\n",
      "https://www.gov.br/anac/pt-br/assuntos/dados-e-estatisticas/percentuais-de-atrasos-e-cancelamentos-2/2022/VRA_2022_12.csv\n"
     ]
    }
   ],
   "source": [
    "import os\n",
    "import time\n",
    "import chardet\n",
    "import pandas as pd\n",
    "from io import StringIO\n",
    "\n",
    "path = f\"dados/historico_ANAC/\"\n",
    "dados_compilados = []\n",
    "\n",
    "if not os.path.exists(path):\n",
    "    print(\"Criado caminho:\", path)\n",
    "    os.makedirs(path)\n",
    "\n",
    "\n",
    "for url in links_arquivos[0]:\n",
    "    print(url)\n",
    "    response = rq.get(url)\n",
    "    nomeArquivo = url.split('/')[-1]\n",
    "    \n",
    "    with open(\"dados/historico_ANAC/{}\".format(nomeArquivo),\"wb\")as file:\n",
    "        bytes_data = response.content\n",
    "        # file.write(data)\n",
    "        \n",
    "        # Verificação da codificacao do arquivo\n",
    "        result_encoding = chardet.detect(bytes_data[:100])\n",
    "        s=str(bytes_data, result_encoding['encoding'])\n",
    "        data = StringIO(s) \n",
    "\n",
    "        df_tmp = pd.read_csv(data, sep=';', low_memory=False)\n",
    "        dados_compilados.append(df_tmp)\n",
    "        "
   ]
  },
  {
   "cell_type": "code",
   "execution_count": 4,
   "metadata": {},
   "outputs": [],
   "source": [
    "df_voos = pd.concat(dados_compilados)"
   ]
  },
  {
   "cell_type": "code",
   "execution_count": 5,
   "metadata": {},
   "outputs": [],
   "source": [
    "df_voos['Código DI'] = df_voos['Código DI'].astype(str)"
   ]
  },
  {
   "cell_type": "code",
   "execution_count": 6,
   "metadata": {},
   "outputs": [],
   "source": [
    "df_voos.to_parquet('df_voos.parquet')"
   ]
  },
  {
   "cell_type": "code",
   "execution_count": null,
   "metadata": {},
   "outputs": [],
   "source": []
  }
 ],
 "metadata": {
  "kernelspec": {
   "display_name": "Python 3 (ipykernel)",
   "language": "python",
   "name": "python3"
  },
  "language_info": {
   "codemirror_mode": {
    "name": "ipython",
    "version": 3
   },
   "file_extension": ".py",
   "mimetype": "text/x-python",
   "name": "python",
   "nbconvert_exporter": "python",
   "pygments_lexer": "ipython3",
   "version": "3.9.13"
  }
 },
 "nbformat": 4,
 "nbformat_minor": 2
}
